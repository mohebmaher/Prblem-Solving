{
 "cells": [
  {
   "cell_type": "markdown",
   "id": "4ca98c4e-3329-40db-8207-3a3ca969ab07",
   "metadata": {},
   "source": [
    "## 1. Two Sum"
   ]
  },
  {
   "cell_type": "markdown",
   "id": "8ea6b4a5-2a87-4636-9340-572c20163ee5",
   "metadata": {},
   "source": [
    "Given an array of integers `nums` and an integer `target`, return indices of the two numbers such that they add up to target.\n",
    "You may assume that each input would have exactly one solution, and you may not use the same element twice.\n",
    "You can return the answer in any order."
   ]
  },
  {
   "cell_type": "markdown",
   "id": "2aad4b2d-216f-4d61-9e63-205bdc434678",
   "metadata": {},
   "source": [
    "https://leetcode.com/problems/two-sum/"
   ]
  },
  {
   "cell_type": "markdown",
   "id": "7be3a62c-2e13-40a6-a203-bcb11d7f506a",
   "metadata": {},
   "source": [
    "> - **Example 1**:\n",
    "```\n",
    "Input: nums = [2,7,11,15], target = 9\n",
    "Output: [0,1]\n",
    "Explanation: Because nums[0] + nums[1] == 9, we return [0, 1].```"
   ]
  },
  {
   "cell_type": "markdown",
   "id": "617376c6-ff03-4ff6-bebd-f1bdd9f3e706",
   "metadata": {},
   "source": [
    "> - **Example 2**:\n",
    "```\n",
    "Input: nums = [3,2,4], target = 6\n",
    "Output: [1,2]```"
   ]
  },
  {
   "cell_type": "markdown",
   "id": "4bf26a83-38db-4922-9c69-b96458865ff8",
   "metadata": {},
   "source": [
    "> - **Example 3**:\n",
    "```\n",
    "Input: nums = [3,3], target = 6\n",
    "Output: [0,1]```"
   ]
  },
  {
   "cell_type": "markdown",
   "id": "bf8843e7-a073-4a04-9820-00bf387a6158",
   "metadata": {},
   "source": [
    "> - **Follow-up**: Can you come up with an algorithm that is less than O(n2) time complexity?"
   ]
  },
  {
   "cell_type": "markdown",
   "id": "83bcbf9d-219b-4be0-a618-1786801aa7cf",
   "metadata": {},
   "source": [
    "## Solution:"
   ]
  },
  {
   "cell_type": "code",
   "execution_count": 1,
   "id": "0135d184-29ca-4774-b043-a0817c730f18",
   "metadata": {},
   "outputs": [],
   "source": [
    "import numpy as np"
   ]
  },
  {
   "cell_type": "code",
   "execution_count": 2,
   "id": "7147a037-c51a-4081-a2d6-0e6faf022eb0",
   "metadata": {},
   "outputs": [],
   "source": [
    "# Create a random number generator with a defined seed\n",
    "rng = np.random.default_rng(42)"
   ]
  },
  {
   "cell_type": "code",
   "execution_count": 3,
   "id": "9568b635-14d7-4bc1-98d0-8617bdde1598",
   "metadata": {},
   "outputs": [],
   "source": [
    "# Creat an array of random numbers\n",
    "nums = rng.choice(np.arange(1, 10001), size=10000, replace=False)"
   ]
  },
  {
   "cell_type": "code",
   "execution_count": 4,
   "id": "eabac738-9d25-49d5-b344-ea3099d31d7e",
   "metadata": {},
   "outputs": [],
   "source": [
    "target = 10"
   ]
  },
  {
   "cell_type": "code",
   "execution_count": 5,
   "id": "6430cf12-333f-43fd-bd37-f1cd91be4fb9",
   "metadata": {},
   "outputs": [],
   "source": [
    "# First implementation \n",
    "def two_sum1(nums, target):\n",
    "    # Get the array length\n",
    "    nums_len = len(nums)\n",
    "    # Search for two numbers that sum to 10\n",
    "    for i in range(nums_len-1):\n",
    "        for j in range(i+1, nums_len):\n",
    "            if nums[i] + nums[j] == target:\n",
    "                return i, j"
   ]
  },
  {
   "cell_type": "code",
   "execution_count": 6,
   "id": "d9a66960-0d98-4fc9-928a-3ad1cee1b2c5",
   "metadata": {},
   "outputs": [],
   "source": [
    "# Second implementation\n",
    "def two_sum2(nums, target):\n",
    "    # Create a dict for storing {e: i} pairs\n",
    "    num_to_idx = {}\n",
    "    # Iterate over nums \n",
    "    for idx, num in enumerate(nums):\n",
    "        # Calculate x for every e\n",
    "        x = target - num\n",
    "        # Search for x in d (in constant time)\n",
    "        if x not in num_to_idx:\n",
    "            num_to_idx[num] = idx\n",
    "        else:\n",
    "            return num_to_idx[x], idx"
   ]
  },
  {
   "cell_type": "code",
   "execution_count": 7,
   "id": "7c303de8-39e9-4685-9cbc-860f2cd10930",
   "metadata": {},
   "outputs": [
    {
     "name": "stdout",
     "output_type": "stream",
     "text": [
      "CPU times: total: 15.5 s\n",
      "Wall time: 16 s\n"
     ]
    },
    {
     "data": {
      "text/plain": [
       "(1306, 3969)"
      ]
     },
     "execution_count": 7,
     "metadata": {},
     "output_type": "execute_result"
    }
   ],
   "source": [
    "%%time\n",
    "two_sum1(nums, target)"
   ]
  },
  {
   "cell_type": "code",
   "execution_count": 8,
   "id": "08b69511-f371-4f2a-a4e8-f1f31de44820",
   "metadata": {},
   "outputs": [
    {
     "name": "stdout",
     "output_type": "stream",
     "text": [
      "CPU times: total: 0 ns\n",
      "Wall time: 0 ns\n"
     ]
    },
    {
     "data": {
      "text/plain": [
       "(1306, 3969)"
      ]
     },
     "execution_count": 8,
     "metadata": {},
     "output_type": "execute_result"
    }
   ],
   "source": [
    "%%time\n",
    "two_sum2(nums, target)"
   ]
  }
 ],
 "metadata": {
  "kernelspec": {
   "display_name": "Python 3 (ipykernel)",
   "language": "python",
   "name": "python3"
  },
  "language_info": {
   "codemirror_mode": {
    "name": "ipython",
    "version": 3
   },
   "file_extension": ".py",
   "mimetype": "text/x-python",
   "name": "python",
   "nbconvert_exporter": "python",
   "pygments_lexer": "ipython3",
   "version": "3.10.8"
  }
 },
 "nbformat": 4,
 "nbformat_minor": 5
}
